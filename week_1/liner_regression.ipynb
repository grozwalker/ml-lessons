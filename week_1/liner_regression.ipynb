{
 "cells": [
  {
   "cell_type": "code",
   "execution_count": 2,
   "id": "a59b50aa-30f1-48aa-8990-2d84c07158b3",
   "metadata": {},
   "outputs": [],
   "source": [
    "import math, copy\n",
    "import numpy as np"
   ]
  },
  {
   "cell_type": "code",
   "execution_count": 3,
   "id": "963777ed-b175-437a-80cc-9eec2513a1fd",
   "metadata": {},
   "outputs": [],
   "source": [
    "x_train = np.array([1.0, 2.0]) # square / features\n",
    "y_train = np.array([300.0, 500.0]) # price / target"
   ]
  },
  {
   "cell_type": "code",
   "execution_count": 22,
   "id": "2ca6bc44-5c7f-4fcb-83f4-0ee3f6bb1b75",
   "metadata": {},
   "outputs": [],
   "source": [
    "def cost_function(x, y, w, b):\n",
    "    m = x.size\n",
    "    t_j = 0\n",
    "    \n",
    "    for i in range(m):\n",
    "        f_x = w * x[i] + b\n",
    "        \n",
    "        t_j += (f_x - y[i]) ** 2\n",
    "        \n",
    "    j = t_j / (2 * m)\n",
    "    \n",
    "    return j"
   ]
  },
  {
   "cell_type": "code",
   "execution_count": 26,
   "id": "62875196-40a4-4fca-88e9-137ab4a375b7",
   "metadata": {},
   "outputs": [],
   "source": [
    "def compute_gradient(x, y, w, b):\n",
    "    m = x_train.size\n",
    "    dj_dw = 0\n",
    "    dj_db = 0\n",
    "    \n",
    "    for i in range(m):\n",
    "        f_x = w * x[i] + b\n",
    "        dj_dw += (f_x - y[i]) * x[i] / m\n",
    "        dj_db += (f_x - y[i]) / m\n",
    "        \n",
    "    return dj_dw, dj_db"
   ]
  },
  {
   "cell_type": "code",
   "execution_count": 29,
   "id": "d47279f0-4a31-4f1a-b595-74e323e398cb",
   "metadata": {},
   "outputs": [
    {
     "name": "stdout",
     "output_type": "stream",
     "text": [
      "16.1 13.75 69785.60625\n",
      "194.09202534841114 109.55930379094337 4.606163362946697\n",
      "197.15220019480228 104.60783687796535 1.0702395648950676\n",
      "198.6272852866246 102.2210990630985 0.2486695837757099\n",
      "199.33831525626283 101.070628405204 0.05777824323026921\n",
      "199.68105047915014 100.51607116543055 0.013424743549613295\n",
      "199.84625790784335 100.248759930611 0.0031192318993561704\n",
      "199.92589225142038 100.11990885603169 0.0007247518439395537\n",
      "199.96427810808032 100.05779923526855 0.00016839569876150856\n",
      "199.98278110471867 100.02786075781393 3.9126649484997784e-05\n"
     ]
    }
   ],
   "source": [
    "def gradient_descent(x, y, w_init, b_init, num_iter, alpha):\n",
    "    w = w_init\n",
    "    b = b_init\n",
    "    \n",
    "    for i in range(num_iter):\n",
    "        dj_dw, dj_db = compute_gradient(x, y, w, b)\n",
    "        w = w - alpha * dj_dw\n",
    "        b = b - alpha * dj_db\n",
    "        \n",
    "        cost = cost_function(x, y, w, b)\n",
    "        \n",
    "        if i % 1000 == 0:\n",
    "            print(w, b, cost)\n",
    "    \n",
    "w_init = 10\n",
    "b_init = 10\n",
    "iterations = 10000\n",
    "alpha = 1.0e-2\n",
    "    \n",
    "gradient_descent(x_train, y_train, w_init, b_init, iterations, alpha)       "
   ]
  },
  {
   "cell_type": "code",
   "execution_count": null,
   "id": "52b27efc-5314-4750-8ec2-4a2c7d62d6c2",
   "metadata": {},
   "outputs": [],
   "source": []
  }
 ],
 "metadata": {
  "kernelspec": {
   "display_name": "Python 3 (ipykernel)",
   "language": "python",
   "name": "python3"
  },
  "language_info": {
   "codemirror_mode": {
    "name": "ipython",
    "version": 3
   },
   "file_extension": ".py",
   "mimetype": "text/x-python",
   "name": "python",
   "nbconvert_exporter": "python",
   "pygments_lexer": "ipython3",
   "version": "3.11.3"
  }
 },
 "nbformat": 4,
 "nbformat_minor": 5
}
