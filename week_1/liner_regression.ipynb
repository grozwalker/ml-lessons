{
 "cells": [
  {
   "cell_type": "code",
   "execution_count": 2,
   "id": "a59b50aa-30f1-48aa-8990-2d84c07158b3",
   "metadata": {},
   "outputs": [],
   "source": [
    "import math, copy\n",
    "import numpy as np"
   ]
  },
  {
   "cell_type": "code",
   "execution_count": 56,
   "id": "963777ed-b175-437a-80cc-9eec2513a1fd",
   "metadata": {},
   "outputs": [],
   "source": [
    "x_train = np.array([1.0, 2.0]) # square / features\n",
    "y_train = np.array([300.0, 500.0]) # price / target"
   ]
  },
  {
   "cell_type": "markdown",
   "id": "25e8dd2a-97d0-459b-a87d-fc259d104353",
   "metadata": {},
   "source": [
    "**Definitions**\n",
    "\n",
    "Linear function that describe the data: $ f_w,_b(x) = {w * x + b} $, where *w* and *b* calls **model parameters**\n",
    "\n",
    "Our task is to find such *w* and *b* in order to describe the data as \"accurately as possible\".\n",
    "Accurately as possible means that Cost function is minimal\n",
    "\n",
    "Cost function: $ J = { 1 \\over 2m } { \\sum_{i=1}^m (f(x^i) - y^i)^2 } $\n",
    "\n",
    "To find minimum of the cost function we use method wich call **gradient descent**. The essence of the method is to simultaneously change the parameters *w* and *b* in order to approach the local minimum of the function\n",
    "\n",
    "Simultaneously change the parameters *w* and *b* can describe like this:\n",
    "\n",
    "$$ w = w - \\alpha * \\frac{d{J_w,_b(x)}}{dw} $$\n",
    "$$ b = b - \\alpha * \\frac{d{J_w,_b(x)}}{db} $$,\n",
    "where $\\alpha$ -- learning rate\n"
   ]
  },
  {
   "cell_type": "code",
   "execution_count": 67,
   "id": "2ca6bc44-5c7f-4fcb-83f4-0ee3f6bb1b75",
   "metadata": {},
   "outputs": [],
   "source": [
    "# Function to calculate the Cost\n",
    "def cost_function(x, y, w, b):\n",
    "    m = x.size\n",
    "    \n",
    "    f_x = w * x + b\n",
    "    \n",
    "    t_j = (f_x - y) ** 2\n",
    "        \n",
    "    j = t_j.sum() / (2 * m)\n",
    "    \n",
    "    return j"
   ]
  },
  {
   "cell_type": "code",
   "execution_count": 52,
   "id": "62875196-40a4-4fca-88e9-137ab4a375b7",
   "metadata": {},
   "outputs": [],
   "source": [
    "def compute_gradient(x, y, w, b):\n",
    "    m = x_train.size\n",
    "    \n",
    "    f_x = w * x + b\n",
    "    \n",
    "    dj_dw = ((f_x - y) * x).sum()\n",
    "    dj_db = (f_x - y).sum()\n",
    "        \n",
    "    return dj_dw / m, dj_db / m"
   ]
  },
  {
   "cell_type": "code",
   "execution_count": 68,
   "id": "d47279f0-4a31-4f1a-b595-74e323e398cb",
   "metadata": {},
   "outputs": [
    {
     "name": "stdout",
     "output_type": "stream",
     "text": [
      "W:  16.1 B:  13.75 COST:  69785.60625\n",
      "W:  194.09202534841114 B:  109.55930379094337 COST:  4.606163362946697\n",
      "W:  197.15220019480228 B:  104.60783687796535 COST:  1.0702395648950676\n",
      "W:  198.6272852866246 B:  102.2210990630985 COST:  0.2486695837757099\n",
      "W:  199.33831525626283 B:  101.070628405204 COST:  0.05777824323026921\n",
      "W:  199.68105047915014 B:  100.51607116543055 COST:  0.013424743549613295\n",
      "W:  199.84625790784335 B:  100.248759930611 COST:  0.0031192318993561704\n",
      "W:  199.92589225142038 B:  100.11990885603169 COST:  0.0007247518439395537\n",
      "W:  199.96427810808032 B:  100.05779923526855 COST:  0.00016839569876150856\n",
      "W:  199.98278110471867 B:  100.02786075781393 COST:  3.9126649484997784e-05\n"
     ]
    }
   ],
   "source": [
    "def gradient_descent(x, y, w_init, b_init, num_iter, alpha):\n",
    "    w = w_init\n",
    "    b = b_init\n",
    "    \n",
    "    for i in range(num_iter):\n",
    "        dj_dw, dj_db = compute_gradient(x, y, w, b)\n",
    "\n",
    "        w = w - alpha * dj_dw\n",
    "        b = b - alpha * dj_db\n",
    "        \n",
    "        if i % 1000 == 0:\n",
    "            cost = cost_function(x, y, w, b)\n",
    "            \n",
    "            print('W: ', w, 'B: ', b, 'COST: ', cost)\n",
    "\n",
    "# initialize parameters\n",
    "w_init = 10\n",
    "b_init = 10\n",
    "\n",
    "# gradient descent settings\n",
    "iterations = 10000\n",
    "alpha = 1.0e-2\n",
    "    \n",
    "gradient_descent(x_train, y_train, w_init, b_init, iterations, alpha)       "
   ]
  },
  {
   "cell_type": "code",
   "execution_count": null,
   "id": "4cc8be72-e30f-4acb-adcb-b1ff53f95164",
   "metadata": {},
   "outputs": [],
   "source": []
  }
 ],
 "metadata": {
  "kernelspec": {
   "display_name": "Python 3 (ipykernel)",
   "language": "python",
   "name": "python3"
  },
  "language_info": {
   "codemirror_mode": {
    "name": "ipython",
    "version": 3
   },
   "file_extension": ".py",
   "mimetype": "text/x-python",
   "name": "python",
   "nbconvert_exporter": "python",
   "pygments_lexer": "ipython3",
   "version": "3.11.3"
  }
 },
 "nbformat": 4,
 "nbformat_minor": 5
}
